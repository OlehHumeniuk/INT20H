{
 "cells": [
  {
   "cell_type": "code",
   "execution_count": 109,
   "id": "81fd92bf-42c5-4b2e-ad3c-207e36686039",
   "metadata": {},
   "outputs": [],
   "source": [
    "from bs4 import BeautifulSoup as BS\n",
    "from selenium import webdriver\n",
    "from functools import reduce\n",
    "from selenium.webdriver.support.ui import Select\n",
    "from selenium.webdriver.support.ui import WebDriverWait\n",
    "from selenium.webdriver.common.by import By\n",
    "from selenium.webdriver.support import expected_conditions as EC\n",
    "from selenium.webdriver.common.keys import Keys\n",
    "from selenium.webdriver.common.action_chains import ActionChains\n",
    "import pandas as pd\n",
    "import time"
   ]
  },
  {
   "cell_type": "code",
   "execution_count": 310,
   "id": "b0d25897-fba7-4487-8ef8-356b7cbf8304",
   "metadata": {},
   "outputs": [],
   "source": [
    "class Parser:\n",
    "    def __init__(self):\n",
    "        self.url = \"https://schedule.kpi.ua/?groupId=9bd9f12a-5083-4e2f-9e21-18445e79883e\"\n",
    "        self.lesson_classes = ['sc-dLMFU', 'jHsfpU', 'sc-dcJsrY',  'hoEsOx', 'sc-eDPEul', 'dbZAma']\n",
    "        self.time = ['8:30', '10:25', '12:20', '14:15', '16;10', '18;30']\n",
    "        self.days = ['Mon', 'Tus', 'Wed', 'Thu', 'Fri', 'Sat']\n",
    "        \n",
    "\n",
    "    def get_group_page(self, group_name: str, week: int):\n",
    "        driver = webdriver.Chrome()\n",
    "        driver.maximize_window()\n",
    "        driver.get(self.url)\n",
    "\n",
    "        input_elem = WebDriverWait(driver, 20).until(EC.element_to_be_clickable((By.ID, \"react-select-3-input\")))\n",
    "        input_elem.click()\n",
    "        input_elem.send_keys(group_name)\n",
    "        time.sleep(0.5)\n",
    "        input_elem.send_keys(Keys.ENTER)\n",
    "        if week==2:\n",
    "            WebDriverWait(driver, 20).until(EC.element_to_be_clickable((By.CLASS_NAME, \"hnMYvq\"))).click()\n",
    "        else:\n",
    "            WebDriverWait(driver, 20).until(EC.element_to_be_clickable((By.CLASS_NAME, \"eBQRSr\"))).click()\n",
    "        WebDriverWait(driver, 20).until(EC.element_to_be_clickable((By.CLASS_NAME, \"uQJdd\"))).click()\n",
    "        time.sleep(0.5)\n",
    "        r = driver.page_source\n",
    "        driver.quit()\n",
    "        return r\n",
    "\n",
    "    def get_group_schedule(self, group_name: str, week: int):\n",
    "        page = self.get_group_page(group_name, week)\n",
    "        soup = BS(page, \"html.parser\")\n",
    "        divs = soup.findAll('div')\n",
    "        \n",
    "        blocks = []\n",
    "        for div in divs:\n",
    "            if 'class' in div.attrs:\n",
    "                parse=0\n",
    "                for wclass in to_parse:\n",
    "                    if wclass in div['class']:\n",
    "                        parse=1\n",
    "                        break\n",
    "                if parse:\n",
    "                    blocks.append(div)\n",
    "\n",
    "        week = dict()\n",
    "        \n",
    "        for i in range(6):\n",
    "            for j in range(6):\n",
    "                if i==0:\n",
    "                    week[self.days[j]]=dict()\n",
    "                div = blocks[i*6+j]\n",
    "                if 'jHsfpU' in div['class']:\n",
    "                    lesson = None\n",
    "                else:\n",
    "                    info = div.findAll('div')\n",
    "                    print(div)\n",
    "                    print('-------------------------------')\n",
    "                    lesson = dict()\n",
    "                    for elem in info:\n",
    "                        if 'class' in elem.attrs:\n",
    "                            if 'hXteRa' in elem['class']:\n",
    "                                lesson['type'] = elem.text\n",
    "                            if 'bMGeNQ' in elem['class']:\n",
    "                                lesson['type'] = elem.text\n",
    "                            if 'hbZTEb' in elem['class']:\n",
    "                                lesson['type'] = elem.text\n",
    "                            if 'fjzqii' in elem['class']:\n",
    "                                lesson['discription'] = elem.text\n",
    "                            if 'cmzwJF' in elem['class']:\n",
    "                                lesson['lector'] = elem.text\n",
    "                week[self.days[j]][self.time[i]] = lesson\n",
    "\n",
    "        return week\n",
    "        "
   ]
  },
  {
   "cell_type": "code",
   "execution_count": 311,
   "id": "8e72daf9-21f1-4b1d-a314-c6a8877df372",
   "metadata": {},
   "outputs": [
    {
     "data": {
      "text/plain": [
       "{'Mon': {'8:30': {'type': 'Лек',\n",
       "   'discription': 'Фізика. Частина 1. Механіка. Молекулярна фізика',\n",
       "   'lector': 'Чурсанова Марина Валеріївна'},\n",
       "  '10:25': {'type': 'Лек',\n",
       "   'discription': 'Вища математика. Частина 1. Диференційні числення. Аналітична геометрія. Лінійна алгебра',\n",
       "   'lector': 'Коновалова Наталія Романівна'},\n",
       "  '12:20': {'type': 'Лек', 'discription': 'Історія науки і техніки'},\n",
       "  '14:15': {'type': 'Лек',\n",
       "   'discription': 'Інженерні основи авіації і космонавтики',\n",
       "   'lector': 'Кабанячий Володимир Володимирович'},\n",
       "  '16;10': None,\n",
       "  '18;30': None},\n",
       " 'Tus': {'8:30': {'type': 'Лек',\n",
       "   'discription': 'Інформаційні технології та загальні методи розробки прикладного програмного забезпечення. Частина 1. Інформаційні технології',\n",
       "   'lector': 'Борисов Віктор Васильович'},\n",
       "  '10:25': {'type': 'Лек',\n",
       "   'discription': 'Нарисна геометрія',\n",
       "   'lector': 'Ванін Володимир Володимирович'},\n",
       "  '12:20': {'type': 'Лек',\n",
       "   'discription': 'Хімія',\n",
       "   'lector': 'Шпак Арсеній Євгенович'},\n",
       "  '14:15': None,\n",
       "  '16;10': None,\n",
       "  '18;30': None},\n",
       " 'Wed': {'8:30': {'type': 'Прак',\n",
       "   'discription': 'Практичний курс іноземної мови. Частина 1',\n",
       "   'lector': 'Жигжитова Людмила Миколаївна'},\n",
       "  '10:25': {'type': 'Прак',\n",
       "   'discription': 'Фізика. Частина 1. Механіка. Молекулярна фізика',\n",
       "   'lector': 'Чурсанова Марина Валеріївна'},\n",
       "  '12:20': {'type': 'Прак',\n",
       "   'discription': 'Вища математика. Частина 1. Диференційні числення. Аналітична геометрія. Лінійна алгебра',\n",
       "   'lector': 'Кубайчук Оксана Олексіївна'},\n",
       "  '14:15': None,\n",
       "  '16;10': None,\n",
       "  '18;30': None},\n",
       " 'Thu': {'8:30': {'type': 'Прак',\n",
       "   'discription': 'Інформаційні технології та загальні методи розробки прикладного програмного забезпечення. Частина 1. Інформаційні технології',\n",
       "   'lector': 'Бондаренко Олександр Миколайович'},\n",
       "  '10:25': {'type': 'Прак',\n",
       "   'discription': 'Інженерні основи авіації і космонавтики'},\n",
       "  '12:20': {'type': 'Прак',\n",
       "   'discription': 'Нарисна геометрія',\n",
       "   'lector': 'Грубич Марія Володимирівна'},\n",
       "  '14:15': None,\n",
       "  '16;10': None,\n",
       "  '18;30': None},\n",
       " 'Fri': {'8:30': {'type': 'Прак',\n",
       "   'discription': 'Вища математика. Частина 1. Диференційні числення. Аналітична геометрія. Лінійна алгебра',\n",
       "   'lector': 'Кубайчук Оксана Олексіївна'},\n",
       "  '10:25': None,\n",
       "  '12:20': {'type': 'Прак',\n",
       "   'discription': 'Основи здорового способу життя',\n",
       "   'lector': 'Іванюта Наталія Вікторівна'},\n",
       "  '14:15': None,\n",
       "  '16;10': None,\n",
       "  '18;30': None},\n",
       " 'Sat': {'8:30': None,\n",
       "  '10:25': None,\n",
       "  '12:20': None,\n",
       "  '14:15': None,\n",
       "  '16;10': None,\n",
       "  '18;30': None}}"
      ]
     },
     "execution_count": 311,
     "metadata": {},
     "output_type": "execute_result"
    }
   ],
   "source": [
    "data"
   ]
  },
  {
   "cell_type": "code",
   "execution_count": 312,
   "id": "e4a18bb2-79d2-4d42-af57-ffb1e6333d6b",
   "metadata": {},
   "outputs": [
    {
     "name": "stdout",
     "output_type": "stream",
     "text": [
      "<div class=\"sc-dcJsrY hoEsOx\"><div><div class=\"sc-aXZVg sc-jEACwC knHWgd jeiDIp\"><div class=\"sc-iGgWBj sc-imWYAI djcdjy hXteRa\">Лек</div></div><div class=\"sc-jXbUNg fjzqii\">Фізика. Частина 1. Механіка. Молекулярна фізика</div><div class=\"sc-aXZVg sc-dhKdcB sc-kpDqfm knHWgd iuSRFk cmzwJF\"><img alt=\"teacher\" class=\"sc-gEvEer hIFHmP\" src=\"/static/media/teacher.b868ff5585b1165a8f3f16b897d7eff6.svg\"/><a class=\"sc-fqkvVR eIJnWA\" href=\"/lecturers?lecturerId=5bd5be19-78fd-4fe3-a3b4-3489ba1f9321\">Чурсанова Марина Валеріївна</a></div><div class=\"sc-aXZVg sc-dhKdcB sc-cwHptR knHWgd iuSRFk dtpzom\"><div><a class=\"sc-fqkvVR eIJnWA\" href=\"/?groupId=\"> </a></div></div></div></div>\n",
      "-------------------------------\n",
      "<div class=\"sc-dcJsrY hoEsOx\"><div><div class=\"sc-aXZVg sc-jEACwC knHWgd jeiDIp\"><div class=\"sc-iGgWBj sc-imWYAI djcdjy hXteRa\">Лек</div></div><div class=\"sc-jXbUNg fjzqii\">Інформаційні технології та загальні методи розробки прикладного програмного забезпечення. Частина 1. Інформаційні технології</div><div class=\"sc-aXZVg sc-dhKdcB sc-kpDqfm knHWgd iuSRFk cmzwJF\"><img alt=\"teacher\" class=\"sc-gEvEer hIFHmP\" src=\"/static/media/teacher.b868ff5585b1165a8f3f16b897d7eff6.svg\"/><a class=\"sc-fqkvVR eIJnWA\" href=\"/lecturers?lecturerId=6791f08a-6a3a-4b48-ae3a-c577d6b7f38e\">Борисов Віктор Васильович</a></div><div class=\"sc-aXZVg sc-dhKdcB sc-cwHptR knHWgd iuSRFk dtpzom\"><div><a class=\"sc-fqkvVR eIJnWA\" href=\"/?groupId=\"> </a></div></div></div></div>\n",
      "-------------------------------\n",
      "<div class=\"sc-dcJsrY hoEsOx\"><div><div class=\"sc-aXZVg sc-jEACwC knHWgd jeiDIp\"><div class=\"sc-iGgWBj sc-kAyceB djcdjy hbZTEb\">Прак</div></div><div class=\"sc-jXbUNg fjzqii\">Практичний курс іноземної мови. Частина 1</div><div class=\"sc-aXZVg sc-dhKdcB sc-kpDqfm knHWgd iuSRFk cmzwJF\"><img alt=\"teacher\" class=\"sc-gEvEer hIFHmP\" src=\"/static/media/teacher.b868ff5585b1165a8f3f16b897d7eff6.svg\"/><a class=\"sc-fqkvVR eIJnWA\" href=\"/lecturers?lecturerId=67eb2d6f-4a6e-4638-bb11-d6d014ad8314\">Жигжитова Людмила Миколаївна</a></div><div class=\"sc-aXZVg sc-dhKdcB sc-cwHptR knHWgd iuSRFk dtpzom\"><div><a class=\"sc-fqkvVR eIJnWA\" href=\"/?groupId=\"> </a></div></div></div></div>\n",
      "-------------------------------\n",
      "<div class=\"sc-dcJsrY hoEsOx\"><div><div class=\"sc-aXZVg sc-jEACwC knHWgd jeiDIp\"><div class=\"sc-iGgWBj sc-kAyceB djcdjy hbZTEb\">Прак</div></div><div class=\"sc-jXbUNg fjzqii\">Інформаційні технології та загальні методи розробки прикладного програмного забезпечення. Частина 1. Інформаційні технології</div><div class=\"sc-aXZVg sc-dhKdcB sc-kpDqfm knHWgd iuSRFk cmzwJF\"><img alt=\"teacher\" class=\"sc-gEvEer hIFHmP\" src=\"/static/media/teacher.b868ff5585b1165a8f3f16b897d7eff6.svg\"/><a class=\"sc-fqkvVR eIJnWA\" href=\"/lecturers?lecturerId=5e5d69a3-8f2a-40fb-b1aa-69deeb8f5807\">Бондаренко Олександр Миколайович</a></div><div class=\"sc-aXZVg sc-dhKdcB sc-cwHptR knHWgd iuSRFk dtpzom\"><div><a class=\"sc-fqkvVR eIJnWA\" href=\"/?groupId=\"> </a></div></div></div></div>\n",
      "-------------------------------\n",
      "<div class=\"sc-dcJsrY hoEsOx\"><div><div class=\"sc-aXZVg sc-jEACwC knHWgd jeiDIp\"><div class=\"sc-iGgWBj sc-kAyceB djcdjy hbZTEb\">Прак</div></div><div class=\"sc-jXbUNg fjzqii\">Вища математика. Частина 1. Диференційні числення. Аналітична геометрія. Лінійна алгебра</div><div class=\"sc-aXZVg sc-dhKdcB sc-kpDqfm knHWgd iuSRFk cmzwJF\"><img alt=\"teacher\" class=\"sc-gEvEer hIFHmP\" src=\"/static/media/teacher.b868ff5585b1165a8f3f16b897d7eff6.svg\"/><a class=\"sc-fqkvVR eIJnWA\" href=\"/lecturers?lecturerId=b1bb6eb0-06e9-4db5-9503-fe76d52cbba6\">Кубайчук Оксана Олексіївна</a></div><div class=\"sc-aXZVg sc-dhKdcB sc-cwHptR knHWgd iuSRFk dtpzom\"><div><a class=\"sc-fqkvVR eIJnWA\" href=\"/?groupId=\"> </a></div></div></div></div>\n",
      "-------------------------------\n",
      "<div class=\"sc-dcJsrY hoEsOx\"><div><div class=\"sc-aXZVg sc-jEACwC knHWgd jeiDIp\"><div class=\"sc-iGgWBj sc-imWYAI djcdjy hXteRa\">Лек</div></div><div class=\"sc-jXbUNg fjzqii\">Вища математика. Частина 1. Диференційні числення. Аналітична геометрія. Лінійна алгебра</div><div class=\"sc-aXZVg sc-dhKdcB sc-kpDqfm knHWgd iuSRFk cmzwJF\"><img alt=\"teacher\" class=\"sc-gEvEer hIFHmP\" src=\"/static/media/teacher.b868ff5585b1165a8f3f16b897d7eff6.svg\"/><a class=\"sc-fqkvVR eIJnWA\" href=\"/lecturers?lecturerId=e5d4b9c2-2ef8-4fd0-9c0a-297bab473b8d\">Коновалова Наталія Романівна</a></div><div class=\"sc-aXZVg sc-dhKdcB sc-cwHptR knHWgd iuSRFk dtpzom\"><div><a class=\"sc-fqkvVR eIJnWA\" href=\"/?groupId=\"> </a></div></div></div></div>\n",
      "-------------------------------\n",
      "<div class=\"sc-dcJsrY hoEsOx\"><div><div class=\"sc-aXZVg sc-jEACwC knHWgd jeiDIp\"><div class=\"sc-iGgWBj sc-imWYAI djcdjy hXteRa\">Лек</div></div><div class=\"sc-jXbUNg fjzqii\">Нарисна геометрія</div><div class=\"sc-aXZVg sc-dhKdcB sc-kpDqfm knHWgd iuSRFk cmzwJF\"><img alt=\"teacher\" class=\"sc-gEvEer hIFHmP\" src=\"/static/media/teacher.b868ff5585b1165a8f3f16b897d7eff6.svg\"/><a class=\"sc-fqkvVR eIJnWA\" href=\"/lecturers?lecturerId=92278e2b-aaaa-4a5c-ac6f-e2c9f1fbd9b7\">Ванін Володимир Володимирович</a></div><div class=\"sc-aXZVg sc-dhKdcB sc-cwHptR knHWgd iuSRFk dtpzom\"><div><a class=\"sc-fqkvVR eIJnWA\" href=\"/?groupId=\"> </a></div></div></div></div>\n",
      "-------------------------------\n",
      "<div class=\"sc-dcJsrY hoEsOx\"><div><div class=\"sc-aXZVg sc-jEACwC knHWgd jeiDIp\"><div class=\"sc-iGgWBj sc-kAyceB djcdjy hbZTEb\">Прак</div></div><div class=\"sc-jXbUNg fjzqii\">Фізика. Частина 1. Механіка. Молекулярна фізика</div><div class=\"sc-aXZVg sc-dhKdcB sc-kpDqfm knHWgd iuSRFk cmzwJF\"><img alt=\"teacher\" class=\"sc-gEvEer hIFHmP\" src=\"/static/media/teacher.b868ff5585b1165a8f3f16b897d7eff6.svg\"/><a class=\"sc-fqkvVR eIJnWA\" href=\"/lecturers?lecturerId=5bd5be19-78fd-4fe3-a3b4-3489ba1f9321\">Чурсанова Марина Валеріївна</a></div><div class=\"sc-aXZVg sc-dhKdcB sc-cwHptR knHWgd iuSRFk dtpzom\"><div><a class=\"sc-fqkvVR eIJnWA\" href=\"/?groupId=\"> </a></div></div></div></div>\n",
      "-------------------------------\n",
      "<div class=\"sc-eDPEul dbZAma\"><div class=\"sc-eldPxv flAObD\"><div><div class=\"sc-aXZVg sc-jEACwC knHWgd jeiDIp\"><div class=\"sc-iGgWBj sc-kAyceB djcdjy hbZTEb\">Прак</div></div><div class=\"sc-jXbUNg fjzqii\">Інженерні основи авіації і космонавтики</div><div class=\"sc-aXZVg sc-dhKdcB sc-kpDqfm knHWgd iuSRFk cmzwJF\"><img alt=\"teacher\" class=\"sc-gEvEer hIFHmP\" src=\"/static/media/teacher.b868ff5585b1165a8f3f16b897d7eff6.svg\"/><a class=\"sc-fqkvVR eIJnWA\" href=\"/lecturers?lecturerId=fdba29f9-31ce-45aa-b7a0-a2375989394b\">Грицан Сергій Вадимович</a></div><div class=\"sc-aXZVg sc-dhKdcB sc-cwHptR knHWgd iuSRFk dtpzom\"><div><a class=\"sc-fqkvVR eIJnWA\" href=\"/?groupId=\"> </a></div></div></div></div><div class=\"sc-eldPxv flAObD\"><div><div class=\"sc-aXZVg sc-jEACwC knHWgd jeiDIp\"><div class=\"sc-iGgWBj sc-kAyceB djcdjy hbZTEb\">Прак</div></div><div class=\"sc-jXbUNg fjzqii\">Інженерні основи авіації і космонавтики</div><div class=\"sc-aXZVg sc-dhKdcB sc-kpDqfm knHWgd iuSRFk cmzwJF\"><img alt=\"teacher\" class=\"sc-gEvEer hIFHmP\" src=\"/static/media/teacher.b868ff5585b1165a8f3f16b897d7eff6.svg\"/><a class=\"sc-fqkvVR eIJnWA\" href=\"/lecturers?lecturerId=80aa98ec-ef41-483c-83a4-55a11a0af684\">Кабанячий Володимир Володимирович</a></div><div class=\"sc-aXZVg sc-dhKdcB sc-cwHptR knHWgd iuSRFk dtpzom\"><div><a class=\"sc-fqkvVR eIJnWA\" href=\"/?groupId=\"> </a></div></div></div></div><div class=\"sc-fPXMVe uQJdd\">Менше інформації</div></div>\n",
      "-------------------------------\n",
      "<div class=\"sc-eDPEul dbZAma\"><div class=\"sc-eldPxv flAObD\"><div><div class=\"sc-aXZVg sc-jEACwC knHWgd jeiDIp\"><div class=\"sc-iGgWBj sc-imWYAI djcdjy hXteRa\">Лек</div></div><div class=\"sc-jXbUNg fjzqii\">Історія науки і техніки</div></div></div><div class=\"sc-eldPxv flAObD\"><div><div class=\"sc-aXZVg sc-jEACwC knHWgd jeiDIp\"><div class=\"sc-iGgWBj sc-imWYAI djcdjy hXteRa\">Лек</div></div><div class=\"sc-jXbUNg fjzqii\">Історія науки і техніки</div></div></div><div class=\"sc-fPXMVe uQJdd\">Більше інформації</div></div>\n",
      "-------------------------------\n",
      "<div class=\"sc-dcJsrY hoEsOx\"><div><div class=\"sc-aXZVg sc-jEACwC knHWgd jeiDIp\"><div class=\"sc-iGgWBj sc-imWYAI djcdjy hXteRa\">Лек</div></div><div class=\"sc-jXbUNg fjzqii\">Хімія</div><div class=\"sc-aXZVg sc-dhKdcB sc-kpDqfm knHWgd iuSRFk cmzwJF\"><img alt=\"teacher\" class=\"sc-gEvEer hIFHmP\" src=\"/static/media/teacher.b868ff5585b1165a8f3f16b897d7eff6.svg\"/><a class=\"sc-fqkvVR eIJnWA\" href=\"/lecturers?lecturerId=af5f415b-c687-4250-981e-316e38b3d8c4\">Шпак Арсеній Євгенович</a></div><div class=\"sc-aXZVg sc-dhKdcB sc-cwHptR knHWgd iuSRFk dtpzom\"><div><a class=\"sc-fqkvVR eIJnWA\" href=\"/?groupId=\"> </a></div></div></div></div>\n",
      "-------------------------------\n",
      "<div class=\"sc-dcJsrY hoEsOx\"><div><div class=\"sc-aXZVg sc-jEACwC knHWgd jeiDIp\"><div class=\"sc-iGgWBj sc-kAyceB djcdjy hbZTEb\">Прак</div></div><div class=\"sc-jXbUNg fjzqii\">Вища математика. Частина 1. Диференційні числення. Аналітична геометрія. Лінійна алгебра</div><div class=\"sc-aXZVg sc-dhKdcB sc-kpDqfm knHWgd iuSRFk cmzwJF\"><img alt=\"teacher\" class=\"sc-gEvEer hIFHmP\" src=\"/static/media/teacher.b868ff5585b1165a8f3f16b897d7eff6.svg\"/><a class=\"sc-fqkvVR eIJnWA\" href=\"/lecturers?lecturerId=b1bb6eb0-06e9-4db5-9503-fe76d52cbba6\">Кубайчук Оксана Олексіївна</a></div><div class=\"sc-aXZVg sc-dhKdcB sc-cwHptR knHWgd iuSRFk dtpzom\"><div><a class=\"sc-fqkvVR eIJnWA\" href=\"/?groupId=\"> </a></div></div></div></div>\n",
      "-------------------------------\n",
      "<div class=\"sc-dcJsrY hoEsOx\"><div><div class=\"sc-aXZVg sc-jEACwC knHWgd jeiDIp\"><div class=\"sc-iGgWBj sc-kAyceB djcdjy hbZTEb\">Прак</div></div><div class=\"sc-jXbUNg fjzqii\">Нарисна геометрія</div><div class=\"sc-aXZVg sc-dhKdcB sc-kpDqfm knHWgd iuSRFk cmzwJF\"><img alt=\"teacher\" class=\"sc-gEvEer hIFHmP\" src=\"/static/media/teacher.b868ff5585b1165a8f3f16b897d7eff6.svg\"/><a class=\"sc-fqkvVR eIJnWA\" href=\"/lecturers?lecturerId=3f3e190e-5d43-4632-a00d-a0164fde298f\">Грубич Марія Володимирівна</a></div><div class=\"sc-aXZVg sc-dhKdcB sc-cwHptR knHWgd iuSRFk dtpzom\"><div><a class=\"sc-fqkvVR eIJnWA\" href=\"/?groupId=\"> </a></div></div></div></div>\n",
      "-------------------------------\n",
      "<div class=\"sc-dcJsrY hoEsOx\"><div><div class=\"sc-aXZVg sc-jEACwC knHWgd jeiDIp\"><div class=\"sc-iGgWBj sc-kAyceB djcdjy hbZTEb\">Прак</div></div><div class=\"sc-jXbUNg fjzqii\">Основи здорового способу життя</div><div class=\"sc-aXZVg sc-dhKdcB sc-kpDqfm knHWgd iuSRFk cmzwJF\"><img alt=\"teacher\" class=\"sc-gEvEer hIFHmP\" src=\"/static/media/teacher.b868ff5585b1165a8f3f16b897d7eff6.svg\"/><a class=\"sc-fqkvVR eIJnWA\" href=\"/lecturers?lecturerId=a79aa06c-edce-45a3-91db-b804b3b354e4\">Іванюта Наталія Вікторівна</a></div><div class=\"sc-aXZVg sc-dhKdcB sc-cwHptR knHWgd iuSRFk dtpzom\"><div><a class=\"sc-fqkvVR eIJnWA\" href=\"/?groupId=\"> </a></div></div></div></div>\n",
      "-------------------------------\n",
      "<div class=\"sc-dcJsrY hoEsOx\"><div><div class=\"sc-aXZVg sc-jEACwC knHWgd jeiDIp\"><div class=\"sc-iGgWBj sc-imWYAI djcdjy hXteRa\">Лек</div></div><div class=\"sc-jXbUNg fjzqii\">Інженерні основи авіації і космонавтики</div><div class=\"sc-aXZVg sc-dhKdcB sc-kpDqfm knHWgd iuSRFk cmzwJF\"><img alt=\"teacher\" class=\"sc-gEvEer hIFHmP\" src=\"/static/media/teacher.b868ff5585b1165a8f3f16b897d7eff6.svg\"/><a class=\"sc-fqkvVR eIJnWA\" href=\"/lecturers?lecturerId=80aa98ec-ef41-483c-83a4-55a11a0af684\">Кабанячий Володимир Володимирович</a></div><div class=\"sc-aXZVg sc-dhKdcB sc-cwHptR knHWgd iuSRFk dtpzom\"><div><a class=\"sc-fqkvVR eIJnWA\" href=\"/?groupId=\"> </a></div></div></div></div>\n",
      "-------------------------------\n"
     ]
    }
   ],
   "source": [
    "p = Parser()\n",
    "data = p.get_group_schedule('AA-31 (IAT)', 1) #'БТ-в27ф (ФБМІ)'"
   ]
  },
  {
   "cell_type": "code",
   "execution_count": 263,
   "id": "f378f77b-59c2-423b-acc9-b7ce3e1239b7",
   "metadata": {},
   "outputs": [],
   "source": [
    "info = data['Wed']['10:25'].findAll('div')\n"
   ]
  },
  {
   "cell_type": "code",
   "execution_count": 265,
   "id": "1f270891-45ec-4128-91e5-1d0aab7c815e",
   "metadata": {},
   "outputs": [
    {
     "data": {
      "text/plain": [
       "{'type': 'Лек',\n",
       " 'discription': 'Проблеми розробки та випробування біофармацевтичних препаратів',\n",
       " 'lector': 'Галкін Олександр Юрійович'}"
      ]
     },
     "execution_count": 265,
     "metadata": {},
     "output_type": "execute_result"
    }
   ],
   "source": [
    "lesson"
   ]
  },
  {
   "cell_type": "code",
   "execution_count": 234,
   "id": "45d016a9-0abc-42e4-8108-3128dcbe29cf",
   "metadata": {},
   "outputs": [],
   "source": [
    "def render_page(url, group_name, week):\n",
    "    driver = webdriver.Chrome()\n",
    "    driver.maximize_window()\n",
    "    driver.get(url)\n",
    "    input_elem = WebDriverWait(driver, 20).until(EC.element_to_be_clickable((By.ID, \"react-select-3-input\")))\n",
    "    input_elem.click()\n",
    "    input_elem.send_keys(group_name)\n",
    "    time.sleep(0.5)\n",
    "    input_elem.send_keys(Keys.ENTER)\n",
    "    time.sleep(0.5)\n",
    "    if week==2:\n",
    "        WebDriverWait(driver, 20).until(EC.element_to_be_clickable((By.CLASS_NAME, \"hnMYvq\"))).click()\n",
    "    else:\n",
    "        WebDriverWait(driver, 20).until(EC.element_to_be_clickable((By.CLASS_NAME, \"eBQRSr\"))).click()\n",
    "    time.sleep(3)\n",
    "    r = driver.page_source\n",
    "    driver.quit()\n",
    "    return r"
   ]
  },
  {
   "cell_type": "code",
   "execution_count": 235,
   "id": "08cea952-29c0-4184-8351-865d62af2af2",
   "metadata": {},
   "outputs": [
    {
     "name": "stdout",
     "output_type": "stream",
     "text": [
      "['sc-dcJsrY', 'hoEsOx']\n",
      "['sc-eDPEul', 'dbZAma']\n",
      "['sc-dcJsrY', 'hoEsOx']\n",
      "['sc-dcJsrY', 'hoEsOx']\n",
      "['sc-dLMFU', 'jHsfpU']\n",
      "['sc-dcJsrY', 'hoEsOx']\n",
      "['sc-dcJsrY', 'hoEsOx']\n",
      "['sc-dcJsrY', 'hoEsOx']\n",
      "['sc-dcJsrY', 'hoEsOx']\n",
      "['sc-dcJsrY', 'hoEsOx']\n",
      "['sc-dLMFU', 'jHsfpU']\n",
      "['sc-dcJsrY', 'hoEsOx']\n",
      "['sc-dcJsrY', 'hoEsOx']\n",
      "['sc-dcJsrY', 'hoEsOx']\n",
      "['sc-dLMFU', 'jHsfpU']\n",
      "['sc-dcJsrY', 'hoEsOx']\n",
      "['sc-dLMFU', 'jHsfpU']\n",
      "['sc-dLMFU', 'jHsfpU']\n",
      "['sc-dcJsrY', 'hoEsOx']\n",
      "['sc-dcJsrY', 'hoEsOx']\n",
      "['sc-dcJsrY', 'hoEsOx']\n",
      "['sc-dcJsrY', 'hoEsOx']\n",
      "['sc-dLMFU', 'jHsfpU']\n",
      "['sc-dLMFU', 'jHsfpU']\n",
      "['sc-dcJsrY', 'hoEsOx']\n",
      "['sc-dcJsrY', 'hoEsOx']\n",
      "['sc-dLMFU', 'jHsfpU']\n",
      "['sc-dcJsrY', 'hoEsOx']\n",
      "['sc-dLMFU', 'jHsfpU']\n",
      "['sc-dLMFU', 'jHsfpU']\n",
      "['sc-dLMFU', 'jHsfpU']\n",
      "['sc-dLMFU', 'jHsfpU']\n",
      "['sc-dLMFU', 'jHsfpU']\n",
      "['sc-dLMFU', 'jHsfpU']\n",
      "['sc-dLMFU', 'jHsfpU']\n",
      "['sc-dLMFU', 'jHsfpU']\n"
     ]
    }
   ],
   "source": [
    "r = render_page(\"https://schedule.kpi.ua/?groupId=9bd9f12a-5083-4e2f-9e21-18445e79883e\", final_dd[200], 1)\n",
    "soup = BS(r, \"html.parser\")\n",
    "mydivs = soup.findAll('div')\n",
    "to_parse = ['sc-dLMFU', 'jHsfpU', 'sc-dcJsrY',  'hoEsOx', 'sc-eDPEul', 'dbZAma']\n",
    "parsed = []\n",
    "for div in mydivs:\n",
    "    if 'class' in div.attrs:\n",
    "        parse=0\n",
    "        for wclass in to_parse:\n",
    "            if wclass in div['class']:\n",
    "                parse=1\n",
    "                break\n",
    "        if parse:\n",
    "            print(div['class'])\n",
    "            parsed.append(div)\n",
    "            pass\n"
   ]
  },
  {
   "cell_type": "code",
   "execution_count": 214,
   "id": "fdbeab29-12f5-4c73-883b-6625e3891665",
   "metadata": {},
   "outputs": [],
   "source": [
    "import json\n",
    "#with open(\"groups.json\", \"w\") as outfile:\n",
    "    #for elem in final_dd:\n",
    "        #outfile.write(elem+'\\n')\n",
    "        #pass"
   ]
  },
  {
   "cell_type": "code",
   "execution_count": 217,
   "id": "d4cd2e8e-e0ab-45fb-851f-564d3cdb9fff",
   "metadata": {},
   "outputs": [],
   "source": [
    "r = render_page(\"https://schedule.kpi.ua/?groupId=9bd9f12a-5083-4e2f-9e21-18445e79883e\", final_dd[3]) #fast-option-selected"
   ]
  },
  {
   "cell_type": "code",
   "execution_count": 208,
   "id": "8d3286cd-802c-4e4e-b475-226cb9552c95",
   "metadata": {},
   "outputs": [
    {
     "data": {
      "text/plain": [
       "1450"
      ]
     },
     "execution_count": 208,
     "metadata": {},
     "output_type": "execute_result"
    }
   ],
   "source": [
    "len(final_dd)"
   ]
  },
  {
   "cell_type": "code",
   "execution_count": 180,
   "id": "4b2f092d-2b2e-4328-affd-c1adb399af7a",
   "metadata": {},
   "outputs": [
    {
     "data": {
      "text/plain": [
       "'АА-31 (ІАТ)'"
      ]
     },
     "execution_count": 180,
     "metadata": {},
     "output_type": "execute_result"
    }
   ],
   "source": [
    "group"
   ]
  },
  {
   "cell_type": "code",
   "execution_count": 46,
   "id": "78feb4d6-5e67-4e4f-a385-3bcd21038eeb",
   "metadata": {},
   "outputs": [],
   "source": [
    "import numpy as np"
   ]
  },
  {
   "cell_type": "code",
   "execution_count": 53,
   "id": "a3c7be14-8859-4552-a2d7-ca41aba2f741",
   "metadata": {},
   "outputs": [],
   "source": [
    "time = ['8:30', '10:25', '12:20', '14:15', '16;10', '18;30']\n",
    "days = ['Mon', 'Tus', 'Wed', 'Thu', 'Fri', 'Sat']\n",
    "week = dict()"
   ]
  },
  {
   "cell_type": "code",
   "execution_count": 54,
   "id": "f3fabdf4-9e3d-40fd-af3e-9fc7654f8aac",
   "metadata": {},
   "outputs": [
    {
     "data": {
      "text/plain": [
       "36"
      ]
     },
     "execution_count": 54,
     "metadata": {},
     "output_type": "execute_result"
    }
   ],
   "source": [
    "len(parsed)"
   ]
  },
  {
   "cell_type": "code",
   "execution_count": 55,
   "id": "262c2c12-c0e9-420b-903a-6812310f80a8",
   "metadata": {},
   "outputs": [],
   "source": [
    "for i in range(6):\n",
    "    for j in range(6):\n",
    "        if i==0:\n",
    "            week[days[j]]=dict()\n",
    "        div = parsed[i*6+j]\n",
    "        week[days[j]][time[i]] = div['class']"
   ]
  },
  {
   "cell_type": "code",
   "execution_count": 56,
   "id": "e3ed0c98-87c1-4f80-a7ec-23e6a7c80680",
   "metadata": {},
   "outputs": [
    {
     "data": {
      "text/plain": [
       "{'Mon': {'8:30': ['sc-dcJsrY', 'hoEsOx'],\n",
       "  '10:25': ['sc-dcJsrY', 'hoEsOx'],\n",
       "  '12:20': ['sc-dcJsrY', 'hoEsOx'],\n",
       "  '14:15': ['sc-dcJsrY', 'hoEsOx'],\n",
       "  '16;10': ['sc-dLMFU', 'jHsfpU'],\n",
       "  '18;30': ['sc-dLMFU', 'jHsfpU']},\n",
       " 'Tus': {'8:30': ['sc-dcJsrY', 'hoEsOx'],\n",
       "  '10:25': ['sc-dcJsrY', 'hoEsOx'],\n",
       "  '12:20': ['sc-dcJsrY', 'hoEsOx'],\n",
       "  '14:15': ['sc-dLMFU', 'jHsfpU'],\n",
       "  '16;10': ['sc-dLMFU', 'jHsfpU'],\n",
       "  '18;30': ['sc-dLMFU', 'jHsfpU']},\n",
       " 'Wed': {'8:30': ['sc-dcJsrY', 'hoEsOx'],\n",
       "  '10:25': ['sc-dcJsrY', 'hoEsOx'],\n",
       "  '12:20': ['sc-dcJsrY', 'hoEsOx'],\n",
       "  '14:15': ['sc-dLMFU', 'jHsfpU'],\n",
       "  '16;10': ['sc-dLMFU', 'jHsfpU'],\n",
       "  '18;30': ['sc-dLMFU', 'jHsfpU']},\n",
       " 'Thu': {'8:30': ['sc-dcJsrY', 'hoEsOx'],\n",
       "  '10:25': ['sc-eDPEul', 'dbZAma'],\n",
       "  '12:20': ['sc-dcJsrY', 'hoEsOx'],\n",
       "  '14:15': ['sc-dLMFU', 'jHsfpU'],\n",
       "  '16;10': ['sc-dLMFU', 'jHsfpU'],\n",
       "  '18;30': ['sc-dLMFU', 'jHsfpU']},\n",
       " 'Fri': {'8:30': ['sc-dLMFU', 'jHsfpU'],\n",
       "  '10:25': ['sc-dLMFU', 'jHsfpU'],\n",
       "  '12:20': ['sc-dcJsrY', 'hoEsOx'],\n",
       "  '14:15': ['sc-dLMFU', 'jHsfpU'],\n",
       "  '16;10': ['sc-dLMFU', 'jHsfpU'],\n",
       "  '18;30': ['sc-dLMFU', 'jHsfpU']},\n",
       " 'Sat': {'8:30': ['sc-dLMFU', 'jHsfpU'],\n",
       "  '10:25': ['sc-dLMFU', 'jHsfpU'],\n",
       "  '12:20': ['sc-dLMFU', 'jHsfpU'],\n",
       "  '14:15': ['sc-dLMFU', 'jHsfpU'],\n",
       "  '16;10': ['sc-dLMFU', 'jHsfpU'],\n",
       "  '18;30': ['sc-dLMFU', 'jHsfpU']}}"
      ]
     },
     "execution_count": 56,
     "metadata": {},
     "output_type": "execute_result"
    }
   ],
   "source": [
    "week"
   ]
  },
  {
   "cell_type": "code",
   "execution_count": null,
   "id": "5551806b-4dba-4d8e-b154-7ae7d223c255",
   "metadata": {},
   "outputs": [],
   "source": []
  }
 ],
 "metadata": {
  "kernelspec": {
   "display_name": "Python 3 (ipykernel)",
   "language": "python",
   "name": "python3"
  },
  "language_info": {
   "codemirror_mode": {
    "name": "ipython",
    "version": 3
   },
   "file_extension": ".py",
   "mimetype": "text/x-python",
   "name": "python",
   "nbconvert_exporter": "python",
   "pygments_lexer": "ipython3",
   "version": "3.10.12"
  }
 },
 "nbformat": 4,
 "nbformat_minor": 5
}
